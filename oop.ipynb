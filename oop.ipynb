{
 "cells": [
  {
   "metadata": {},
   "cell_type": "markdown",
   "source": [
    "\n",
    "# Basic OOP Principals \n",
    "\n",
    "## Encapsulation\n",
    "\n",
    "Encapsulation is relatively weak in Python, compared to other languages. For example Python does not really support private data, and does not support protected data at all:"
   ],
   "id": "3148d6fc94ca3a1b"
  },
  {
   "metadata": {
    "collapsed": true,
    "ExecuteTime": {
     "end_time": "2024-10-01T11:13:49.875923Z",
     "start_time": "2024-10-01T11:13:49.863138Z"
    }
   },
   "cell_type": "code",
   "source": [
    "class Encapsulation:\n",
    "    def __init__(self, public_data, read_only_data, private_data):\n",
    "        self.public_data = public_data\n",
    "        self._read_only_data=read_only_data\n",
    "        self.__private_data=private_data\n",
    "        \n",
    "    @property\n",
    "    def read_only_data(self):\n",
    "        return self._read_only_data\n",
    "    \n",
    "    @property\n",
    "    def private_data(self):\n",
    "        return self.__private_data\n",
    "        \n",
    "instance = Encapsulation(\"Public!\", \"Read Only!\", \"Private!\")"
   ],
   "id": "initial_id",
   "outputs": [],
   "execution_count": 7
  },
  {
   "metadata": {},
   "cell_type": "markdown",
   "source": "It is possible to read and change public data:",
   "id": "b54389d330dce0eb"
  },
  {
   "metadata": {
    "ExecuteTime": {
     "end_time": "2024-10-01T11:13:52.753949Z",
     "start_time": "2024-10-01T11:13:52.744892Z"
    }
   },
   "cell_type": "code",
   "source": [
    "print(instance.public_data)\n",
    "instance.public_data = \"New Public Data!\"\n",
    "print(instance.public_data)"
   ],
   "id": "3d7a46e9c62ec7d",
   "outputs": [
    {
     "name": "stdout",
     "output_type": "stream",
     "text": [
      "Public!\n",
      "New Public Data!\n"
     ]
    }
   ],
   "execution_count": 8
  },
  {
   "metadata": {},
   "cell_type": "markdown",
   "source": "It is possible to read, but not change private data (if decorated as a property)",
   "id": "4271aa58d00b0b67"
  },
  {
   "metadata": {
    "ExecuteTime": {
     "end_time": "2024-10-01T11:13:54.548319Z",
     "start_time": "2024-10-01T11:13:54.528262Z"
    }
   },
   "cell_type": "code",
   "source": [
    "print(instance.read_only_data)\n",
    "print(instance._read_only_data)\n",
    "instance.read_only_data = \"New Read Only Data!\""
   ],
   "id": "670acf4095055b5d",
   "outputs": [
    {
     "name": "stdout",
     "output_type": "stream",
     "text": [
      "Read Only!\n",
      "Read Only!\n"
     ]
    },
    {
     "ename": "AttributeError",
     "evalue": "property 'read_only_data' of 'Encapsulation' object has no setter",
     "output_type": "error",
     "traceback": [
      "\u001B[0;31m---------------------------------------------------------------------------\u001B[0m",
      "\u001B[0;31mAttributeError\u001B[0m                            Traceback (most recent call last)",
      "Cell \u001B[0;32mIn[9], line 3\u001B[0m\n\u001B[1;32m      1\u001B[0m \u001B[38;5;28mprint\u001B[39m(instance\u001B[38;5;241m.\u001B[39mread_only_data)\n\u001B[1;32m      2\u001B[0m \u001B[38;5;28mprint\u001B[39m(instance\u001B[38;5;241m.\u001B[39m_read_only_data)\n\u001B[0;32m----> 3\u001B[0m \u001B[43minstance\u001B[49m\u001B[38;5;241;43m.\u001B[39;49m\u001B[43mread_only_data\u001B[49m \u001B[38;5;241m=\u001B[39m \u001B[38;5;124m\"\u001B[39m\u001B[38;5;124mNew Read Only Data!\u001B[39m\u001B[38;5;124m\"\u001B[39m\n",
      "\u001B[0;31mAttributeError\u001B[0m: property 'read_only_data' of 'Encapsulation' object has no setter"
     ]
    }
   ],
   "execution_count": 9
  },
  {
   "metadata": {},
   "cell_type": "markdown",
   "source": "It is not possible (actually it is, but it is ever so slightly complicated) to read private data:",
   "id": "26ec5dc932b342fc"
  },
  {
   "metadata": {
    "ExecuteTime": {
     "end_time": "2024-10-01T11:14:14.809754Z",
     "start_time": "2024-10-01T11:14:14.783510Z"
    }
   },
   "cell_type": "code",
   "source": [
    "print(instance.private_data)\n",
    "print(instance.__private_data)"
   ],
   "id": "22a9343364b139cb",
   "outputs": [
    {
     "name": "stdout",
     "output_type": "stream",
     "text": [
      "Private!\n"
     ]
    },
    {
     "ename": "AttributeError",
     "evalue": "'Encapsulation' object has no attribute '__private_data'",
     "output_type": "error",
     "traceback": [
      "\u001B[0;31m---------------------------------------------------------------------------\u001B[0m",
      "\u001B[0;31mAttributeError\u001B[0m                            Traceback (most recent call last)",
      "Cell \u001B[0;32mIn[11], line 2\u001B[0m\n\u001B[1;32m      1\u001B[0m \u001B[38;5;28mprint\u001B[39m(instance\u001B[38;5;241m.\u001B[39mprivate_data)\n\u001B[0;32m----> 2\u001B[0m \u001B[38;5;28mprint\u001B[39m(\u001B[43minstance\u001B[49m\u001B[38;5;241;43m.\u001B[39;49m\u001B[43m__private_data\u001B[49m)\n",
      "\u001B[0;31mAttributeError\u001B[0m: 'Encapsulation' object has no attribute '__private_data'"
     ]
    }
   ],
   "execution_count": 11
  }
 ],
 "metadata": {
  "kernelspec": {
   "display_name": "Python 3",
   "language": "python",
   "name": "python3"
  },
  "language_info": {
   "codemirror_mode": {
    "name": "ipython",
    "version": 2
   },
   "file_extension": ".py",
   "mimetype": "text/x-python",
   "name": "python",
   "nbconvert_exporter": "python",
   "pygments_lexer": "ipython2",
   "version": "2.7.6"
  }
 },
 "nbformat": 4,
 "nbformat_minor": 5
}
